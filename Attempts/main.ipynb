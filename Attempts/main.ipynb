{
 "cells": [
  {
   "cell_type": "code",
   "execution_count": 2,
   "metadata": {
    "collapsed": true
   },
   "outputs": [],
   "source": [
    "import requests\n",
    "import matplotlib.pyplot as plt\n",
    "import requests as req\n",
    "import pandas as pd\n",
    "import openweathermapy as ow\n",
    "import json\n",
    "from citipy import citipy\n",
    "import numpy as np\n",
    "import random\n",
    "from weather_key import api_key"
   ]
  },
  {
   "cell_type": "code",
   "execution_count": 3,
   "metadata": {},
   "outputs": [
    {
     "data": {
      "text/plain": [
       "100"
      ]
     },
     "execution_count": 3,
     "metadata": {},
     "output_type": "execute_result"
    }
   ],
   "source": [
    "#Create a empty list and use loop and citipy to find random cities\n",
    "lat = []\n",
    "lng = []\n",
    "cities = set([])\n",
    "           \n",
    "while len(cities) < 100:\n",
    "    latitude = (random.randrange(-90,90,1))\n",
    "    longitude = (random.randrange(-180, 180,1))\n",
    "    city = citipy.nearest_city(latitude,longitude)\n",
    "    city = city.city_name\n",
    "    lat.append(latitude)\n",
    "    lng.append(longitude)\n",
    "    cities.add(city)\n",
    "len(cities)\n",
    "\n"
   ]
  },
  {
   "cell_type": "code",
   "execution_count": 5,
   "metadata": {
    "collapsed": true
   },
   "outputs": [],
   "source": [
    "#use openweathermapy! loop through the created city list\n",
    "settings = {\"units\": \"metric\", \"appid\": api_key}\n",
    "weather_data = []\n",
    "for city in cities:\n",
    "    weather_data =  [ow.get_current(city, **settings)]\n",
    "    \n",
    "weather_data[0]"
   ]
  },
  {
   "cell_type": "code",
   "execution_count": null,
   "metadata": {
    "collapsed": true
   },
   "outputs": [],
   "source": [
    "#find the necessary values and turn it into a dataframe\n",
    "# Temperature (F) vs. Latitude\n",
    "# Humidity (%) vs. Latitude\n",
    "# Cloudiness (%) vs. Latitude\n",
    "# Wind Speed (mph) vs. Latitude\n",
    "summary = [ \"coord.lat\", \"coord.lon\",\"main.temp\",\"main.humidity\",\"main.windspeed\",\"main.cloudiness\"]\n",
    "column_name = [\"Latitude\", \"Longitude\", \"Temperature\", \"Humidity\", \"Wind Speed\", \"Cloudiness\"]\n",
    "data = data = [response(*summary) for response in weather_data]\n",
    "weather_data = pd.DataFrame(data, index=cities, columns=column_names)\n"
   ]
  }
 ],
 "metadata": {
  "kernelspec": {
   "display_name": "Python [conda env:py36]",
   "language": "python",
   "name": "conda-env-py36-py"
  },
  "language_info": {
   "codemirror_mode": {
    "name": "ipython",
    "version": 3
   },
   "file_extension": ".py",
   "mimetype": "text/x-python",
   "name": "python",
   "nbconvert_exporter": "python",
   "pygments_lexer": "ipython3",
   "version": "3.6.3"
  }
 },
 "nbformat": 4,
 "nbformat_minor": 2
}
