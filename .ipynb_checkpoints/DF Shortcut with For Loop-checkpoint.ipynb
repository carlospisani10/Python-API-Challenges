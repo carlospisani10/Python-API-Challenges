{
 "cells": [
  {
   "cell_type": "code",
   "execution_count": 16,
   "metadata": {
    "collapsed": true
   },
   "outputs": [],
   "source": [
    "import requests\n",
    "import matplotlib.pyplot as plt\n",
    "import requests as req\n",
    "import pandas as pd\n",
    "import openweathermapy as ow\n",
    "import json\n",
    "from citipy import citipy\n",
    "import numpy as np\n",
    "import random\n",
    "from weather_key import api_key"
   ]
  },
  {
   "cell_type": "code",
   "execution_count": 17,
   "metadata": {},
   "outputs": [
    {
     "name": "stdout",
     "output_type": "stream",
     "text": [
      "{'albany', 'tuyen quang', 'iracoubo', 'stornoway', 'sobolevo', 'luganville', 'forio', 'lapua', 'stantsiya gorchakovo', 'champerico', 'partyzany', 'lata', 'chokurdakh', 'nicoya', 'salalah', 'bluff', 'esperance', 'titesti', 'vaini', 'sentyabrskiy', 'flinders', 'pascagoula', 'chuy', 'georgetown', 'butaritari', 'mehamn', 'goderich', 'khatanga', 'orocue', 'kapaa', 'okhotsk', 'hobart', 'urusha', 'ponta do sol', 'kaitangata', 'bethel', 'huaiyuan', 'chagda', 'tuktoyaktuk', 'coquimbo', 'illoqqortoormiut', 'dikson', 'harper', 'samusu', 'batagay-alyta', 'moussoro', 'cervo', 'bonthe', 'arlit', 'chake chake', 'bredasdorp', 'hermanus', 'ordzhonikidze', 'tonk', 'takayama', 'rikitea', 'san patricio', 'port alfred', 'havre-saint-pierre', 'kichera', 'itarema', 'ila', 'puerto ayora', 'grand river south east', 'carnarvon', 'normandin', 'oistins', 'lompoc', 'tsihombe', 'taolanaro', 'hilo', 'bengkulu', 'pangkalanbuun', 'busselton', 'hasaki', 'cape town', 'sabha', 'iqaluit', 'high rock', 'umm lajj', 'margate', 'ranong', 'klaksvik', 'kewanee', 'la asuncion', 'sovetskiy', 'aswan', 'punta arenas', 'majene', 'mataura', 'avarua', 'atuona', 'sorvag', 'bolungarvik', 'san cristobal', 'pacific grove', 'new norfolk', 'novosibirsk', 'ushuaia', 'mkushi'}\n"
     ]
    }
   ],
   "source": [
    "#Create a empty list and use loop and citipy to find random cities\n",
    "lat = []\n",
    "lng = []\n",
    "cities = set([])\n",
    "           \n",
    "while len(cities) < 100:\n",
    "    latitude = (random.randrange(-90,90,1))\n",
    "    longitude = (random.randrange(-180, 180,1))\n",
    "    city = citipy.nearest_city(latitude,longitude)\n",
    "    city = city.city_name\n",
    "    lat.append(latitude)\n",
    "    lng.append(longitude)\n",
    "    cities.add(city)\n",
    "len(cities)\n",
    "print(cities)\n",
    "\n"
   ]
  },
  {
   "cell_type": "code",
   "execution_count": null,
   "metadata": {},
   "outputs": [],
   "source": [
    "#use openweathermapy!\n",
    "settings = {\"units\": \"metric\", \"appid\": api_key}\n",
    "weather_data = []\n",
    "for city in cities:\n",
    "    while len(weather_data) < 100:\n",
    "        try: \n",
    "            weather_data =  [ow.get_current(city, **settings)]\n",
    "        except HTTPError: \n",
    "            print(\"city is not in weathermapy\")\n",
    "        continue\n",
    "len(weather_data)"
   ]
  },
  {
   "cell_type": "code",
   "execution_count": null,
   "metadata": {
    "collapsed": true
   },
   "outputs": [],
   "source": [
    "#find the necessary values and turn it into a dataframe\n",
    "# Temperature (F) vs. Latitude\n",
    "# Humidity (%) vs. Latitude\n",
    "# Cloudiness (%) vs. Latitude\n",
    "# Wind Speed (mph) vs. Latitude\n",
    "\n"
   ]
  }
 ],
 "metadata": {
  "kernelspec": {
   "display_name": "Python [conda env:py36]",
   "language": "python",
   "name": "conda-env-py36-py"
  },
  "language_info": {
   "codemirror_mode": {
    "name": "ipython",
    "version": 3
   },
   "file_extension": ".py",
   "mimetype": "text/x-python",
   "name": "python",
   "nbconvert_exporter": "python",
   "pygments_lexer": "ipython3",
   "version": "3.6.3"
  }
 },
 "nbformat": 4,
 "nbformat_minor": 2
}
